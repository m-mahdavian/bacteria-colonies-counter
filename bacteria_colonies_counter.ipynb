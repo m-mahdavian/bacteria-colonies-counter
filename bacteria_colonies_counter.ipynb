{
  "nbformat": 4,
  "nbformat_minor": 0,
  "metadata": {
    "colab": {
      "provenance": [],
      "authorship_tag": "ABX9TyN05slS1xDefc+SKtN/hMNX",
      "include_colab_link": true
    },
    "kernelspec": {
      "name": "python3",
      "display_name": "Python 3"
    },
    "language_info": {
      "name": "python"
    }
  },
  "cells": [
    {
      "cell_type": "markdown",
      "metadata": {
        "id": "view-in-github",
        "colab_type": "text"
      },
      "source": [
        "<a href=\"https://colab.research.google.com/github/m-mahdavian/bacteria-colonies-counter/blob/main/bacteria_colonies_counter.ipynb\" target=\"_parent\"><img src=\"https://colab.research.google.com/assets/colab-badge.svg\" alt=\"Open In Colab\"/></a>"
      ]
    },
    {
      "cell_type": "code",
      "execution_count": 1,
      "metadata": {
        "colab": {
          "base_uri": "https://localhost:8080/"
        },
        "id": "4dCuVU_Kq2Sz",
        "outputId": "d5f31c37-ffc9-4968-cf44-895267b135e8"
      },
      "outputs": [
        {
          "output_type": "stream",
          "name": "stdout",
          "text": [
            "Image loaded successfully.\n",
            "Number of bacterial colonies detected: 398\n"
          ]
        },
        {
          "output_type": "execute_result",
          "data": {
            "text/plain": [
              "True"
            ]
          },
          "metadata": {},
          "execution_count": 1
        }
      ],
      "source": [
        "import cv2\n",
        "import numpy as np\n",
        "\n",
        "# Provide the correct image path\n",
        "image_path = \"reference-modified.jpg\"\n",
        "\n",
        "# Load the image\n",
        "image = cv2.imread(image_path, cv2.IMREAD_GRAYSCALE)\n",
        "if image is None:\n",
        "    print(\"Error: Image not loaded. Check the file path.\")\n",
        "else:\n",
        "    print(\"Image loaded successfully.\")\n",
        "\n",
        "\n",
        "# Preprocess the image (blur to reduce noise)\n",
        "blurred_image = cv2.GaussianBlur(image, (5, 5), 0)\n",
        "\n",
        "# Threshold the image to separate colonies from the background\n",
        "_, binary_image = cv2.threshold(blurred_image, 0, 255, cv2.THRESH_BINARY + cv2.THRESH_OTSU)\n",
        "\n",
        "# Find contours of the colonies\n",
        "contours, _ = cv2.findContours(binary_image, cv2.RETR_EXTERNAL, cv2.CHAIN_APPROX_SIMPLE)\n",
        "\n",
        "# Filter contours by area (to avoid counting noise)\n",
        "min_area = 10  # Minimum area of a colony\n",
        "colonies = [cnt for cnt in contours if cv2.contourArea(cnt) > min_area]\n",
        "\n",
        "# Count colonies\n",
        "colony_count = len(colonies)\n",
        "print(f\"Number of bacterial colonies detected: {colony_count}\")\n",
        "\n",
        "# Visualize the result (optional)\n",
        "result_image = cv2.cvtColor(image, cv2.COLOR_GRAY2BGR)\n",
        "cv2.drawContours(result_image, colonies, -1, (0, 255, 0), 2)  # Draw contours in green\n",
        "\n",
        "# Save the result image (optional)\n",
        "cv2.imwrite(\"colonies_detected.jpeg\", result_image)\n"
      ]
    }
  ]
}